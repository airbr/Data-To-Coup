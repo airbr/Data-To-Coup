{
 "cells": [
  {
   "cell_type": "code",
   "execution_count": 8,
   "metadata": {
    "collapsed": false
   },
   "outputs": [],
   "source": [
    "import pandas as pd\n",
    "import matplotlib.axes as ax\n",
    "%matplotlib inline\n",
    "import numpy as np\n",
    "import seaborn as sns\n",
    "from scipy.stats import ttest_ind\n",
    "import matplotlib.pyplot as plt"
   ]
  },
  {
   "cell_type": "markdown",
   "metadata": {},
   "source": [
    "## Executive Summary"
   ]
  },
  {
   "cell_type": "markdown",
   "metadata": {},
   "source": [
    "Military coups have existed since as far as 800 BC. They occur when an illegitimate claimant to power within a state for at least seven days. Although coups have been fewer in recent time, there have been about 460 coup attempts since 1950 (of which roughly 50% were successful). In past century, coups have been mostly common in Africa and the Americas, with fewer coups occurring Europe. Most of the coup attempts in the past 60 years occurred in the 1960s, at the same times majority of African nations gained independece from the Europeans. However, in recent times, successful coups have been less frequent either because governments have developed new methods in containing the usurpers, or because recent coup leaders are less strategic in claiming the throne. That, however, is a data science question for another project. \n",
    "\n",
    "Although successful coups are more prominent, attempted coups are more frequent than one would expect. In the past 16 years alone, there have been 30 attempted coups (seven successful), with majority occurring in Africa. Many of these coup attemps did not gain as much international attention as that of Turkey that occurred July 15, 2016. The recent coups attempts causes one to wonder if there ways to predict a coup attempt (successful or not), given the social and polical climate in a state.\n",
    "\n",
    "Problem Statement: Considering social and political instabilities that have occurred in recent times, I want predict the likelihood of a coup d'etat within a country, given specific economic, political and social factors.\n",
    "\n",
    "- Economic factors: income per capita, growth rate\n",
    "- Social factors: accounts of ethnic violence, religious, linguistic, and ethnic fractionalization, fatalities from \n",
    "  violence, urbanization\n",
    "- Political factors: polity score, length of stay for incumbent head of state\n",
    "\n",
    "\n",
    "Data was collected from the Center for Systemic Peace, and then parsed. For my analysis, I will be using a Random Forest Classifier model to predict the occurrence of a coup. The dataset consist of 2,996 observations and 20 variables. \n",
    "  "
   ]
  },
  {
   "cell_type": "code",
   "execution_count": 75,
   "metadata": {
    "collapsed": false
   },
   "outputs": [],
   "source": [
    "coup = pd.read_csv(\"../assets/csv/Coups.csv\")\n",
    "stab = pd.read_csv(\"../assets/csv/Politicalinstability2.csv\")\n",
    "polity = pd.read_csv(\"../assets/csv/polity.csv\")\n",
    "leaders = pd.read_csv(\"../assets/csv/leaders.csv\")\n",
    "urban = pd.read_csv(\"../assets/csv/urbanpop.csv\")\n",
    "gdp = pd.read_csv(\"../assets/csv/Realpercapitagdp.csv\")\n",
    "growth = pd.read_csv(\"../assets/csv/GDPgrowth.csv\")"
   ]
  },
  {
   "cell_type": "code",
   "execution_count": 68,
   "metadata": {
    "collapsed": false
   },
   "outputs": [],
   "source": [
    "#coup.head()"
   ]
  },
  {
   "cell_type": "code",
   "execution_count": 69,
   "metadata": {
    "collapsed": false
   },
   "outputs": [],
   "source": [
    "# def makeBinary(coup):\n",
    "#     if( coup > 0 ):\n",
    "#         return 1\n",
    "#     elif( coup == 0 ):\n",
    "#         return 0\n",
    "    \n",
    "# coup[\"sumcoup\"] = coup[\"scoup1\"] + coup[\"atcoup2\"]\n",
    "# coup[\"coup\"] = coup.sumcoup.apply(makeBinary)"
   ]
  },
  {
   "cell_type": "code",
   "execution_count": 76,
   "metadata": {
    "collapsed": false
   },
   "outputs": [
    {
     "data": {
      "text/html": [
       "<div>\n",
       "<table border=\"1\" class=\"dataframe\">\n",
       "  <thead>\n",
       "    <tr style=\"text-align: right;\">\n",
       "      <th></th>\n",
       "      <th>country</th>\n",
       "      <th>year</th>\n",
       "      <th>scoup1</th>\n",
       "      <th>atcoup2</th>\n",
       "    </tr>\n",
       "  </thead>\n",
       "  <tbody>\n",
       "    <tr>\n",
       "      <th>0</th>\n",
       "      <td>Afghanistan</td>\n",
       "      <td>1955</td>\n",
       "      <td>0</td>\n",
       "      <td>0</td>\n",
       "    </tr>\n",
       "    <tr>\n",
       "      <th>1</th>\n",
       "      <td>Afghanistan</td>\n",
       "      <td>1956</td>\n",
       "      <td>0</td>\n",
       "      <td>0</td>\n",
       "    </tr>\n",
       "    <tr>\n",
       "      <th>2</th>\n",
       "      <td>Afghanistan</td>\n",
       "      <td>1957</td>\n",
       "      <td>0</td>\n",
       "      <td>0</td>\n",
       "    </tr>\n",
       "    <tr>\n",
       "      <th>3</th>\n",
       "      <td>Afghanistan</td>\n",
       "      <td>1958</td>\n",
       "      <td>0</td>\n",
       "      <td>0</td>\n",
       "    </tr>\n",
       "    <tr>\n",
       "      <th>4</th>\n",
       "      <td>Afghanistan</td>\n",
       "      <td>1959</td>\n",
       "      <td>0</td>\n",
       "      <td>0</td>\n",
       "    </tr>\n",
       "  </tbody>\n",
       "</table>\n",
       "</div>"
      ],
      "text/plain": [
       "       country  year  scoup1  atcoup2\n",
       "0  Afghanistan  1955       0        0\n",
       "1  Afghanistan  1956       0        0\n",
       "2  Afghanistan  1957       0        0\n",
       "3  Afghanistan  1958       0        0\n",
       "4  Afghanistan  1959       0        0"
      ]
     },
     "execution_count": 76,
     "metadata": {},
     "output_type": "execute_result"
    }
   ],
   "source": [
    "coup.head()"
   ]
  },
  {
   "cell_type": "code",
   "execution_count": 77,
   "metadata": {
    "collapsed": false
   },
   "outputs": [
    {
     "data": {
      "text/plain": [
       "country    object\n",
       "year        int64\n",
       "scoup1      int64\n",
       "atcoup2     int64\n",
       "dtype: object"
      ]
     },
     "execution_count": 77,
     "metadata": {},
     "output_type": "execute_result"
    }
   ],
   "source": [
    "coup.dtypes"
   ]
  },
  {
   "cell_type": "code",
   "execution_count": 71,
   "metadata": {
    "collapsed": false
   },
   "outputs": [],
   "source": [
    "# Summing scoup1(successful coups) and acoup1(attempted coups) to generate sumcoup\n",
    "# I want a columns with binary variables that indicates coup (successful and attempted) or no coup\n",
    "coup[\"sumcoup\"] = coup[\"scoup1\"] + coup[\"atcoup2\"]\n",
    "\n",
    "# To make a bianary column\n",
    "coupbin = []\n",
    "for i in coup[\"sumcoup\"].tolist():\n",
    "    if i > 0:\n",
    "        coupbin.append(1)\n",
    "    if i == 0:\n",
    "        coupbin.append(0)\n",
    "coup[\"Coup\"] = coupbin"
   ]
  },
  {
   "cell_type": "code",
   "execution_count": 72,
   "metadata": {
    "collapsed": false
   },
   "outputs": [],
   "source": [
    "# Dropping unnecessary columns\n",
    "coup.drop([\"scoup1\", \"atcoup2\", \"sumcoup\"], axis=1, inplace=True)"
   ]
  },
  {
   "cell_type": "code",
   "execution_count": 73,
   "metadata": {
    "collapsed": false
   },
   "outputs": [
    {
     "data": {
      "text/html": [
       "<div>\n",
       "<table border=\"1\" class=\"dataframe\">\n",
       "  <thead>\n",
       "    <tr style=\"text-align: right;\">\n",
       "      <th></th>\n",
       "      <th>country</th>\n",
       "      <th>year</th>\n",
       "      <th>Coup</th>\n",
       "    </tr>\n",
       "  </thead>\n",
       "  <tbody>\n",
       "    <tr>\n",
       "      <th>0</th>\n",
       "      <td>Afghanistan</td>\n",
       "      <td>1955</td>\n",
       "      <td>0</td>\n",
       "    </tr>\n",
       "    <tr>\n",
       "      <th>1</th>\n",
       "      <td>Afghanistan</td>\n",
       "      <td>1956</td>\n",
       "      <td>0</td>\n",
       "    </tr>\n",
       "    <tr>\n",
       "      <th>2</th>\n",
       "      <td>Afghanistan</td>\n",
       "      <td>1957</td>\n",
       "      <td>0</td>\n",
       "    </tr>\n",
       "    <tr>\n",
       "      <th>3</th>\n",
       "      <td>Afghanistan</td>\n",
       "      <td>1958</td>\n",
       "      <td>0</td>\n",
       "    </tr>\n",
       "    <tr>\n",
       "      <th>4</th>\n",
       "      <td>Afghanistan</td>\n",
       "      <td>1959</td>\n",
       "      <td>0</td>\n",
       "    </tr>\n",
       "  </tbody>\n",
       "</table>\n",
       "</div>"
      ],
      "text/plain": [
       "       country  year  Coup\n",
       "0  Afghanistan  1955     0\n",
       "1  Afghanistan  1956     0\n",
       "2  Afghanistan  1957     0\n",
       "3  Afghanistan  1958     0\n",
       "4  Afghanistan  1959     0"
      ]
     },
     "execution_count": 73,
     "metadata": {},
     "output_type": "execute_result"
    }
   ],
   "source": [
    "coup.head()"
   ]
  },
  {
   "cell_type": "code",
   "execution_count": 16,
   "metadata": {
    "collapsed": false
   },
   "outputs": [],
   "source": [
    "# coup.head()"
   ]
  },
  {
   "cell_type": "code",
   "execution_count": 17,
   "metadata": {
    "collapsed": false
   },
   "outputs": [],
   "source": [
    "# To covert the variables in PTYPE to dummy variables \n",
    "dummies = pd.get_dummies(stab[\"PTYPE\"])\n",
    "stab = stab[[\"COUNTRY\", \"YEAR\", \"GENDEATHMAG\", \"ETHMAGFATAL\", \n",
    "             \"ETHMAGFIGHT\", \"REVMAGFATAL\", \"REVMAGFIGHT\"]].join(dummies)\n",
    "\n",
    "stab.columns = [\"COUNTRY\", \"YEAR\", \"GENDEATHMAG\", \"ETHMAGFATAL\", \n",
    "                \"ETHMAGFIGHT\", \"REVMAGFATAL\", \"REVMAGFIGHT\", \"NONE\",\n",
    "                \"ETH\", \"REV\", \"GEN\"]"
   ]
  },
  {
   "cell_type": "code",
   "execution_count": 18,
   "metadata": {
    "collapsed": false
   },
   "outputs": [],
   "source": [
    "# To avoid repetition of rows, I want to group the dataframes bq\n",
    "aggMap = { \"NONE\" : \"max\", \"ETH\" : \"max\", \"REV\" : \"max\", \n",
    "           \"GEN\" : \"max\", \"GENDEATHMAG\" : \"max\", \n",
    "           \"ETHMAGFATAL\" : \"max\", \"ETHMAGFIGHT\" : \"max\", \n",
    "           \"REVMAGFATAL\" : \"max\", \"REVMAGFIGHT\" : \"max\" }\n",
    "\n",
    "stabGrouped = stab.groupby([\"COUNTRY\",\"YEAR\"]).agg(aggMap).reset_index()"
   ]
  },
  {
   "cell_type": "code",
   "execution_count": 19,
   "metadata": {
    "collapsed": false
   },
   "outputs": [],
   "source": [
    "#stabGrouped.head()"
   ]
  },
  {
   "cell_type": "code",
   "execution_count": 20,
   "metadata": {
    "collapsed": false
   },
   "outputs": [
    {
     "data": {
      "text/html": [
       "<div>\n",
       "<table border=\"1\" class=\"dataframe\">\n",
       "  <thead>\n",
       "    <tr style=\"text-align: right;\">\n",
       "      <th></th>\n",
       "      <th>COUNTRY</th>\n",
       "      <th>YEAR</th>\n",
       "      <th>GENDEATHMAG</th>\n",
       "      <th>ETHMAGFATAL</th>\n",
       "      <th>ETHMAGFIGHT</th>\n",
       "      <th>REVMAGFATAL</th>\n",
       "      <th>REVMAGFIGHT</th>\n",
       "      <th>NONE</th>\n",
       "      <th>ETH</th>\n",
       "      <th>REV</th>\n",
       "      <th>GEN</th>\n",
       "    </tr>\n",
       "  </thead>\n",
       "  <tbody>\n",
       "    <tr>\n",
       "      <th>0</th>\n",
       "      <td>Afghanistan</td>\n",
       "      <td>1955</td>\n",
       "      <td>0.0</td>\n",
       "      <td>0</td>\n",
       "      <td>0</td>\n",
       "      <td>0</td>\n",
       "      <td>0</td>\n",
       "      <td>1.0</td>\n",
       "      <td>0.0</td>\n",
       "      <td>0.0</td>\n",
       "      <td>0.0</td>\n",
       "    </tr>\n",
       "    <tr>\n",
       "      <th>1</th>\n",
       "      <td>Afghanistan</td>\n",
       "      <td>1956</td>\n",
       "      <td>0.0</td>\n",
       "      <td>0</td>\n",
       "      <td>0</td>\n",
       "      <td>0</td>\n",
       "      <td>0</td>\n",
       "      <td>1.0</td>\n",
       "      <td>0.0</td>\n",
       "      <td>0.0</td>\n",
       "      <td>0.0</td>\n",
       "    </tr>\n",
       "    <tr>\n",
       "      <th>2</th>\n",
       "      <td>Afghanistan</td>\n",
       "      <td>1957</td>\n",
       "      <td>0.0</td>\n",
       "      <td>0</td>\n",
       "      <td>0</td>\n",
       "      <td>0</td>\n",
       "      <td>0</td>\n",
       "      <td>1.0</td>\n",
       "      <td>0.0</td>\n",
       "      <td>0.0</td>\n",
       "      <td>0.0</td>\n",
       "    </tr>\n",
       "    <tr>\n",
       "      <th>3</th>\n",
       "      <td>Afghanistan</td>\n",
       "      <td>1958</td>\n",
       "      <td>0.0</td>\n",
       "      <td>0</td>\n",
       "      <td>0</td>\n",
       "      <td>0</td>\n",
       "      <td>0</td>\n",
       "      <td>1.0</td>\n",
       "      <td>0.0</td>\n",
       "      <td>0.0</td>\n",
       "      <td>0.0</td>\n",
       "    </tr>\n",
       "    <tr>\n",
       "      <th>4</th>\n",
       "      <td>Afghanistan</td>\n",
       "      <td>1959</td>\n",
       "      <td>0.0</td>\n",
       "      <td>0</td>\n",
       "      <td>0</td>\n",
       "      <td>0</td>\n",
       "      <td>0</td>\n",
       "      <td>1.0</td>\n",
       "      <td>0.0</td>\n",
       "      <td>0.0</td>\n",
       "      <td>0.0</td>\n",
       "    </tr>\n",
       "  </tbody>\n",
       "</table>\n",
       "</div>"
      ],
      "text/plain": [
       "       COUNTRY  YEAR  GENDEATHMAG  ETHMAGFATAL  ETHMAGFIGHT  REVMAGFATAL  \\\n",
       "0  Afghanistan  1955          0.0            0            0            0   \n",
       "1  Afghanistan  1956          0.0            0            0            0   \n",
       "2  Afghanistan  1957          0.0            0            0            0   \n",
       "3  Afghanistan  1958          0.0            0            0            0   \n",
       "4  Afghanistan  1959          0.0            0            0            0   \n",
       "\n",
       "   REVMAGFIGHT  NONE  ETH  REV  GEN  \n",
       "0            0   1.0  0.0  0.0  0.0  \n",
       "1            0   1.0  0.0  0.0  0.0  \n",
       "2            0   1.0  0.0  0.0  0.0  \n",
       "3            0   1.0  0.0  0.0  0.0  \n",
       "4            0   1.0  0.0  0.0  0.0  "
      ]
     },
     "execution_count": 20,
     "metadata": {},
     "output_type": "execute_result"
    }
   ],
   "source": [
    "stab.head()"
   ]
  },
  {
   "cell_type": "code",
   "execution_count": 21,
   "metadata": {
    "collapsed": false
   },
   "outputs": [],
   "source": [
    "# Joining the political stabilty and coup tables \n",
    "coup1 = coup.merge(stabGrouped, how=\"inner\", left_on=[\"country\", \"year\"], right_on=[\"COUNTRY\", \"YEAR\"])"
   ]
  },
  {
   "cell_type": "code",
   "execution_count": 22,
   "metadata": {
    "collapsed": false
   },
   "outputs": [],
   "source": [
    "# dropping the unnecessary columns and setting all columns to lower case for easier manipulation in the future\n",
    "coup1.drop([\"COUNTRY\", \"YEAR\"], axis=1, inplace=True)\n",
    "coup1.columns = map(str.lower, coup1.columns)"
   ]
  },
  {
   "cell_type": "code",
   "execution_count": 23,
   "metadata": {
    "collapsed": false
   },
   "outputs": [],
   "source": [
    "#coup1.head()"
   ]
  },
  {
   "cell_type": "code",
   "execution_count": 24,
   "metadata": {
    "collapsed": false
   },
   "outputs": [],
   "source": [
    "#polity.head()"
   ]
  },
  {
   "cell_type": "code",
   "execution_count": 25,
   "metadata": {
    "collapsed": true
   },
   "outputs": [],
   "source": [
    "# Dropping unnecessary variables\n",
    "polity.drop([\"flag\", \"fragment\", \"democ\", \"autoc\", \"polity\"], axis=1, inplace=True)"
   ]
  },
  {
   "cell_type": "code",
   "execution_count": 26,
   "metadata": {
    "collapsed": true
   },
   "outputs": [],
   "source": [
    "# Merging polity table with coup1 table\n",
    "coup2 = coup1.merge(polity, how=\"inner\", left_on=[\"country\", \"year\"], right_on=[\"country\", \"year\"])"
   ]
  },
  {
   "cell_type": "code",
   "execution_count": 27,
   "metadata": {
    "collapsed": false
   },
   "outputs": [],
   "source": [
    "#coup2.head()"
   ]
  },
  {
   "cell_type": "code",
   "execution_count": 28,
   "metadata": {
    "collapsed": false
   },
   "outputs": [],
   "source": [
    "#leaders.head()"
   ]
  },
  {
   "cell_type": "code",
   "execution_count": 29,
   "metadata": {
    "collapsed": true
   },
   "outputs": [],
   "source": [
    "# Merging coup2 and leaders\n",
    "coup3 = coup2.merge(leaders, how=\"inner\", left_on=[\"country\", \"year\"], right_on=[\"country\", \"year\"])"
   ]
  },
  {
   "cell_type": "code",
   "execution_count": 30,
   "metadata": {
    "collapsed": false
   },
   "outputs": [],
   "source": [
    "#coup3.head()"
   ]
  },
  {
   "cell_type": "code",
   "execution_count": 31,
   "metadata": {
    "collapsed": false
   },
   "outputs": [],
   "source": [
    "#urban.head()"
   ]
  },
  {
   "cell_type": "code",
   "execution_count": 32,
   "metadata": {
    "collapsed": false
   },
   "outputs": [],
   "source": [
    "# I want to change the shape of the table, so the year columns become rows\n",
    "Col1 = urban.columns[0]\n",
    "Col2 = urban.columns[1:].tolist()\n",
    "urban1 = pd.melt(urban, id_vars=(Col1), var_name=\"year\", value_vars=(Col2), value_name=\"urbanpop\")\n",
    "urban1.sort_values([\"country\", \"year\"], inplace=True)"
   ]
  },
  {
   "cell_type": "code",
   "execution_count": 33,
   "metadata": {
    "collapsed": false
   },
   "outputs": [],
   "source": [
    "#urban1.head()"
   ]
  },
  {
   "cell_type": "code",
   "execution_count": 34,
   "metadata": {
    "collapsed": false
   },
   "outputs": [],
   "source": [
    "#gdp.head()"
   ]
  },
  {
   "cell_type": "markdown",
   "metadata": {},
   "source": [
    "The gdp table shows the real per capita GDP of each country from 1969 to 2015."
   ]
  },
  {
   "cell_type": "code",
   "execution_count": 35,
   "metadata": {
    "collapsed": false
   },
   "outputs": [],
   "source": [
    "# Also changing the shape of the table here\n",
    "Col3 = gdp.columns[0]\n",
    "Col4 = gdp.columns[1:].tolist()\n",
    "gdp1 = pd.melt(gdp, id_vars=(Col3), var_name=\"year\", value_vars=(Col4), value_name=\"gdppercap\")\n",
    "gdp1.sort_values([\"country\", \"year\"], inplace=True)"
   ]
  },
  {
   "cell_type": "code",
   "execution_count": 36,
   "metadata": {
    "collapsed": false
   },
   "outputs": [],
   "source": [
    "#gdp1.head()"
   ]
  },
  {
   "cell_type": "code",
   "execution_count": 37,
   "metadata": {
    "collapsed": false
   },
   "outputs": [],
   "source": [
    "# Cleaning the values in the gdp1 table\n",
    "gdp1['gdppercap'] = gdp1['gdppercap'].str.replace('$', '')\n",
    "gdp1['gdppercap'] = gdp1['gdppercap'].str.replace(',', '')"
   ]
  },
  {
   "cell_type": "code",
   "execution_count": 38,
   "metadata": {
    "collapsed": false
   },
   "outputs": [
    {
     "name": "stderr",
     "output_type": "stream",
     "text": [
      "/Users/Lola/anaconda/lib/python2.7/site-packages/ipykernel/__main__.py:2: FutureWarning: convert_objects is deprecated.  Use the data-type specific converters pd.to_datetime, pd.to_timedelta and pd.to_numeric.\n",
      "  from ipykernel import kernelapp as app\n"
     ]
    },
    {
     "data": {
      "text/plain": [
       "country       object\n",
       "year          object\n",
       "gdppercap    float64\n",
       "dtype: object"
      ]
     },
     "execution_count": 38,
     "metadata": {},
     "output_type": "execute_result"
    }
   ],
   "source": [
    "# Coverting the values to numeric\n",
    "gdp1['gdppercap'] = gdp1['gdppercap'].convert_objects(convert_numeric=True)\n",
    "gdp1.dtypes"
   ]
  },
  {
   "cell_type": "code",
   "execution_count": 39,
   "metadata": {
    "collapsed": false
   },
   "outputs": [],
   "source": [
    "#growth.head()"
   ]
  },
  {
   "cell_type": "code",
   "execution_count": 40,
   "metadata": {
    "collapsed": false
   },
   "outputs": [],
   "source": [
    "# Changing the shape of the table\n",
    "Col5 = growth.columns[0]\n",
    "Col6 = growth.columns[1:].tolist()\n",
    "growth1 = pd.melt(growth, id_vars=(Col5), var_name=\"year\", value_vars=(Col6), value_name=\"gdpgrowth\")\n",
    "growth1.sort_values([\"country\", \"year\"], inplace=True)"
   ]
  },
  {
   "cell_type": "code",
   "execution_count": 41,
   "metadata": {
    "collapsed": false
   },
   "outputs": [],
   "source": [
    "#growth1.head()"
   ]
  },
  {
   "cell_type": "code",
   "execution_count": 42,
   "metadata": {
    "collapsed": false
   },
   "outputs": [
    {
     "name": "stderr",
     "output_type": "stream",
     "text": [
      "/Users/Lola/anaconda/lib/python2.7/site-packages/ipykernel/__main__.py:2: FutureWarning: convert_objects is deprecated.  Use the data-type specific converters pd.to_datetime, pd.to_timedelta and pd.to_numeric.\n",
      "  from ipykernel import kernelapp as app\n"
     ]
    },
    {
     "data": {
      "text/plain": [
       "country       object\n",
       "year          object\n",
       "gdpgrowth    float64\n",
       "dtype: object"
      ]
     },
     "execution_count": 42,
     "metadata": {},
     "output_type": "execute_result"
    }
   ],
   "source": [
    "# Converting to numeric\n",
    "growth1['gdpgrowth'] = growth1['gdpgrowth'].convert_objects(convert_numeric=True)\n",
    "growth1.dtypes"
   ]
  },
  {
   "cell_type": "code",
   "execution_count": 43,
   "metadata": {
    "collapsed": false
   },
   "outputs": [],
   "source": [
    "# Joining tables again\n",
    "Econ = gdp1.merge(growth1, how=\"inner\", left_on=[\"country\", \"year\"], right_on=[\"country\", \"year\"])\n",
    "Econ1 = Econ.merge(urban1, how=\"inner\", left_on=[\"country\", \"year\"], right_on=[\"country\", \"year\"])"
   ]
  },
  {
   "cell_type": "code",
   "execution_count": 44,
   "metadata": {
    "collapsed": false
   },
   "outputs": [],
   "source": [
    "#Econ1.head()"
   ]
  },
  {
   "cell_type": "code",
   "execution_count": 45,
   "metadata": {
    "collapsed": true
   },
   "outputs": [],
   "source": [
    "#Econ1.dtypes"
   ]
  },
  {
   "cell_type": "code",
   "execution_count": 46,
   "metadata": {
    "collapsed": false
   },
   "outputs": [
    {
     "name": "stderr",
     "output_type": "stream",
     "text": [
      "/Users/Lola/anaconda/lib/python2.7/site-packages/ipykernel/__main__.py:2: FutureWarning: convert_objects is deprecated.  Use the data-type specific converters pd.to_datetime, pd.to_timedelta and pd.to_numeric.\n",
      "  from ipykernel import kernelapp as app\n"
     ]
    }
   ],
   "source": [
    "# Convert the year column to numeric\n",
    "Econ1[\"year\"] = Econ1[\"year\"].convert_objects(convert_numeric=True)"
   ]
  },
  {
   "cell_type": "code",
   "execution_count": 47,
   "metadata": {
    "collapsed": false
   },
   "outputs": [],
   "source": [
    "# Final join!\n",
    "DF = Econ1.merge(coup3, how=\"inner\", left_on=[\"country\", \"year\"], right_on=[\"country\", \"year\"])"
   ]
  },
  {
   "cell_type": "code",
   "execution_count": 48,
   "metadata": {
    "collapsed": false
   },
   "outputs": [],
   "source": [
    "#DF.head()"
   ]
  },
  {
   "cell_type": "code",
   "execution_count": 49,
   "metadata": {
    "collapsed": false,
    "scrolled": true
   },
   "outputs": [],
   "source": [
    "# Incorporating a new table into the dataframe\n",
    "# Importing the csv file as a list of lists\n",
    "# Converting the list to a data dictionary, with the countries being the keys and ethinic, linguistic, and religious\n",
    "# fractionalization respectively serving as the values\n",
    "\n",
    "path = \"../assets/csv/diversity.csv\"\n",
    "import csv\n",
    "\n",
    "def read_file(path):\n",
    "    with open(path, 'r') as f:\n",
    "        diversity = [row for row in csv.reader(f.read().splitlines())]\n",
    "    return diversity\n",
    "\n",
    "diversity = read_file(path)\n",
    "diversity = diversity[1:]\n",
    "#print diversity\n",
    "\n",
    "def function(i):return (i[0], i[1:])\n",
    "div_dict = map(function, diversity)\n",
    "divDict = dict(div_dict)\n",
    "#print myNewDict\n"
   ]
  },
  {
   "cell_type": "code",
   "execution_count": 50,
   "metadata": {
    "collapsed": false
   },
   "outputs": [],
   "source": [
    "# Matching the values from the dictionary to their respective countries\n",
    "\n",
    "loc = DF[\"country\"].tolist()\n",
    "\n",
    "\n",
    "ethnicity = []\n",
    "linguistic = []\n",
    "religious = []\n",
    "\n",
    "\n",
    "for i in loc:\n",
    "    for country, ethnic in divDict.items():\n",
    "        if i == country:\n",
    "            ethnicity.append( ethnic[0] )\n",
    "            linguistic.append( ethnic[1] )\n",
    "            religious.append( ethnic[2] )"
   ]
  },
  {
   "cell_type": "code",
   "execution_count": 51,
   "metadata": {
    "collapsed": true
   },
   "outputs": [],
   "source": [
    "#Assigning these values to their respective columns\n",
    "DF[\"ethnic\"] = ethnicity\n",
    "DF[\"linguistic\"] = linguistic\n",
    "DF[\"religious\"] = religious"
   ]
  },
  {
   "cell_type": "code",
   "execution_count": 52,
   "metadata": {
    "collapsed": false
   },
   "outputs": [],
   "source": [
    "#DF.head()"
   ]
  },
  {
   "cell_type": "code",
   "execution_count": 53,
   "metadata": {
    "collapsed": false
   },
   "outputs": [
    {
     "data": {
      "text/plain": [
       "country        3121\n",
       "year           3121\n",
       "gdppercap      3068\n",
       "gdpgrowth      3068\n",
       "urbanpop       3121\n",
       "coup           3121\n",
       "coup           3121\n",
       "none           3121\n",
       "revmagfight    3121\n",
       "gendeathmag    3121\n",
       "ethmagfatal    3121\n",
       "revmagfatal    3121\n",
       "eth            3121\n",
       "ethmagfight    3121\n",
       "rev            3121\n",
       "gen            3121\n",
       "polity2        3121\n",
       "durable        3121\n",
       "yip            3121\n",
       "ethnic         3121\n",
       "linguistic     3121\n",
       "religious      3121\n",
       "dtype: int64"
      ]
     },
     "execution_count": 53,
     "metadata": {},
     "output_type": "execute_result"
    }
   ],
   "source": [
    "DF.count()"
   ]
  },
  {
   "cell_type": "code",
   "execution_count": 54,
   "metadata": {
    "collapsed": false
   },
   "outputs": [],
   "source": [
    "# Drop rows with missing values (since they are relatively few)\n",
    "# Drop the year columns since I won't be needing it for my analysis\n",
    "DF.dropna(axis=0, how=\"any\", inplace=True)\n",
    "DF.drop([\"year\"], axis=1, inplace=True)"
   ]
  },
  {
   "cell_type": "code",
   "execution_count": 55,
   "metadata": {
    "collapsed": false
   },
   "outputs": [
    {
     "data": {
      "text/plain": [
       "(3046, 21)"
      ]
     },
     "execution_count": 55,
     "metadata": {},
     "output_type": "execute_result"
    }
   ],
   "source": [
    "DF.shape"
   ]
  },
  {
   "cell_type": "code",
   "execution_count": 57,
   "metadata": {
    "collapsed": false
   },
   "outputs": [],
   "source": [
    "# DF[\"coup\"].value_counts()"
   ]
  },
  {
   "cell_type": "code",
   "execution_count": 58,
   "metadata": {
    "collapsed": false
   },
   "outputs": [
    {
     "name": "stderr",
     "output_type": "stream",
     "text": [
      "/Users/Lola/anaconda/lib/python2.7/site-packages/ipykernel/__main__.py:2: FutureWarning: convert_objects is deprecated.  Use the data-type specific converters pd.to_datetime, pd.to_timedelta and pd.to_numeric.\n",
      "  from ipykernel import kernelapp as app\n"
     ]
    }
   ],
   "source": [
    "# Converting year column to numeric\n",
    "DF[[\"ethnic\", \"linguistic\", \"religious\"]] = DF[[\"ethnic\", \"linguistic\", \"religious\"]] \\\n",
    "                                            .convert_objects(convert_numeric=True)"
   ]
  },
  {
   "cell_type": "code",
   "execution_count": 63,
   "metadata": {
    "collapsed": false
   },
   "outputs": [],
   "source": [
    "DF = DF[DF.ethmagfatal != 9]\n",
    "DF = DF[DF.ethmagfight != 9]\n",
    "DF = DF[DF.revmagfatal != 9]\n",
    "DF = DF[DF.revmagfight != 9]"
   ]
  },
  {
   "cell_type": "code",
   "execution_count": 60,
   "metadata": {
    "collapsed": false
   },
   "outputs": [
    {
     "data": {
      "text/plain": [
       "array([0, 3, 2, 4, 1, 9])"
      ]
     },
     "execution_count": 60,
     "metadata": {},
     "output_type": "execute_result"
    }
   ],
   "source": [
    "DF[\"ethmagfatal\"].unique()"
   ]
  },
  {
   "cell_type": "code",
   "execution_count": null,
   "metadata": {
    "collapsed": false,
    "scrolled": true
   },
   "outputs": [],
   "source": [
    "DF.head()"
   ]
  },
  {
   "cell_type": "code",
   "execution_count": null,
   "metadata": {
    "collapsed": false
   },
   "outputs": [],
   "source": [
    "DF.dtypes"
   ]
  },
  {
   "cell_type": "markdown",
   "metadata": {},
   "source": [
    "Variable|Description|Data Type|Variable Type\n",
    "--|--\n",
    "country|Country Name|Object|Unique\n",
    "coup|1 = Coup(successful and attempted), 0 = No coup|Integer|Binary\n",
    "gdppercap|GDP per capita|Float|Continuous \n",
    "gdpgrowth|GDP growth rate|Float|Continuous\n",
    "urbanpop|Percentage of urban population|Float|Continuous\n",
    "gendeathmag|Scaled annual number of deaths (range 0-5.0)|Float|Categorical Ordinal\n",
    "revmagfight|Scaled annual number of fatalities related to revolutionary fighting (range 0-4)|Integer|Categorical Ordinal\n",
    "ethmagfatal|Scaled annual number of fatalities related to ethnic fighting (range 0-4)|Integer|Categorical Ordinal\n",
    "revmagfatal|Scaled number of rebel combatants or activists in revolutionary war (range 0-4)|Integer|Categorical Ordinal\n",
    "ethmagfight|Scaled number of rebel combatants or activists in ethnic war (range 0-4)|Integer|Categorical Ordinal\n",
    "polity2|Polity scale ranging from +10 (strongly democratic) to -10 (strongly autocratic)|Integer|Categorical Non-Ordinal\n",
    "durable|Regime durabilty: the number of years since the most recent regime|Float|Categorical Ordinal\n",
    "yip|Number of years head of state has been in power|Integer|Continuous\n",
    "none|No violence occured|Float|Binary\n",
    "eth|Indicates the occurence of an ethnic violence|Float|Binary\n",
    "rev|Indicates the occurence of a revolutionary violence|Float|Binary\n",
    "gen|Indicates the occurence of a genocide|Float|Binary\n",
    "ethnic| Ethnic Fractionalization|Float|Continuous\n",
    "linguistic|Linguistic Fractionalization|Float|Continuous\n",
    "religious| Religious Fractionalization|Float|Continuous"
   ]
  },
  {
   "cell_type": "code",
   "execution_count": null,
   "metadata": {
    "collapsed": false,
    "scrolled": true
   },
   "outputs": [],
   "source": [
    "# To observe the differences in distribution of feactures for coup and no coup\n",
    "fig, ((ax1, ax2, ax3), (ax4, ax5, ax6), (ax7, ax8, ax9), (ax10, ax11, ax12), \\\n",
    "      (ax13, ax14, ax15), (ax16, ax17, ax18)) = plt.subplots(nrows=6, ncols=3, \\\n",
    "        sharey=False, sharex=True, figsize=(20,30))\n",
    "fig.suptitle(\"Feature Distributions for Coup and No Coup\", size=50)\n",
    "\n",
    "sns.set_style(\"whitegrid\")\n",
    "sns.violinplot(x='coup', y=\"gdppercap\", data=DF, ax=ax1)\n",
    "ax1.set_xlabel(\"Coup\", fontsize=15)\n",
    "ax1.set_ylabel(\"GDP/Capita\", fontsize=15)  \n",
    "    \n",
    "sns.violinplot(x='coup', y=\"gdpgrowth\", data=DF, ax=ax2)\n",
    "ax2.set_xlabel(\"Coup\", fontsize=15)\n",
    "ax2.set_ylabel(\"GDP Growth\", fontsize=15)\n",
    "\n",
    "sns.violinplot(x='coup', y=\"urbanpop\", data=DF, ax=ax3)\n",
    "ax3.set_xlabel(\"Coup\", fontsize=15)\n",
    "ax3.set_ylabel(\"Urban Pop.\", fontsize=15)\n",
    "\n",
    "sns.violinplot(x='coup', y=\"none\", data=DF, ax=ax4)\n",
    "ax4.set_xlabel(\"Coup\", fontsize=15)\n",
    "ax4.set_ylabel(\"None\", fontsize=15)\n",
    "\n",
    "sns.violinplot(x='coup', y=\"revmagfight\", data=DF, ax=ax5)\n",
    "ax5.set_xlabel(\"Coup\", fontsize=15)\n",
    "ax5.set_ylabel(\"RevMagFight\", fontsize=15)\n",
    "\n",
    "sns.violinplot(x='coup', y=\"gendeathmag\", data=DF, ax=ax6)\n",
    "ax6.set_xlabel(\"Coup\", fontsize=15)\n",
    "ax6.set_ylabel(\"GenDeathMag\", fontsize=15)\n",
    "\n",
    "sns.violinplot(x='coup', y=\"ethmagfatal\", data=DF, ax=ax7)\n",
    "ax7.set_xlabel(\"Coup\", fontsize=15)\n",
    "ax7.set_ylabel(\"EthMagFatal\", fontsize=15)\n",
    "\n",
    "sns.violinplot(x='coup', y=\"revmagfatal\", data=DF, ax=ax8)\n",
    "ax8.set_xlabel(\"Coup\", fontsize=15)\n",
    "ax8.set_ylabel(\"RevMagFatal\", fontsize=15)\n",
    "\n",
    "sns.violinplot(x='coup', y=\"eth\", data=DF, ax=ax9)\n",
    "ax9.set_xlabel(\"Coup\", fontsize=15)\n",
    "ax9.set_ylabel(\"Eth\", fontsize=15)\n",
    "\n",
    "sns.violinplot(x='coup', y=\"ethmagfight\", data=DF, ax=ax10)\n",
    "ax10.set_xlabel(\"Coup\", fontsize=15)\n",
    "ax10.set_ylabel(\"EthMagFight\", fontsize=15)\n",
    "\n",
    "sns.violinplot(x='coup', y=\"rev\", data=DF, ax=ax11)\n",
    "ax11.set_xlabel(\"Coup\", fontsize=15)\n",
    "ax11.set_ylabel(\"Rev\", fontsize=15)\n",
    "\n",
    "sns.violinplot(x='coup', y=\"gen\", data=DF, ax=ax12)\n",
    "ax12.set_xlabel(\"Coup\", fontsize=15)\n",
    "ax12.set_ylabel(\"Gen\", fontsize=15)\n",
    "\n",
    "sns.violinplot(x='coup', y=\"polity2\", data=DF, ax=ax13)\n",
    "ax13.set_xlabel(\"Coup\", fontsize=15)\n",
    "ax13.set_ylabel(\"Polity\", fontsize=15)\n",
    "\n",
    "sns.violinplot(x='coup', y=\"durable\", data=DF, ax=ax14)\n",
    "ax14.set_xlabel(\"Coup\", fontsize=15)\n",
    "ax14.set_ylabel(\"Durable\", fontsize=15)\n",
    "\n",
    "sns.violinplot(x='coup', y=\"linguistic\", data=DF, ax=ax15)\n",
    "ax15.set_xlabel(\"Coup\", fontsize=15)\n",
    "ax15.set_ylabel(\"Linguistic\", fontsize=15)\n",
    "\n",
    "sns.violinplot(x='coup', y=\"yip\", data=DF, ax=ax16)\n",
    "ax16.set_xlabel(\"Coup\", fontsize=15)\n",
    "ax16.set_ylabel(\"YIP\", fontsize=15)\n",
    "\n",
    "sns.violinplot(x='coup', y=\"ethnic\", data=DF, ax=ax17)\n",
    "ax17.set_xlabel(\"Coup\", fontsize=15)\n",
    "ax17.set_ylabel(\"Ethnic\", fontsize=15)\n",
    "\n",
    "sns.violinplot(x='coup', y=\"religious\", data=DF, ax=ax18)\n",
    "ax18.set_xlabel(\"Coup\", fontsize=15)\n",
    "ax18.set_ylabel(\"Religious\", fontsize=15)\n",
    "\n",
    "fig.subplots_adjust(hspace=.3, wspace=.3)"
   ]
  },
  {
   "cell_type": "code",
   "execution_count": null,
   "metadata": {
    "collapsed": false
   },
   "outputs": [],
   "source": [
    "# To split the dataframe into one with instances of a coup and another with instances of no coup\n",
    "acoup = DF.loc[DF.coup==1]\n",
    "nocoup = DF.loc[DF.coup==0]"
   ]
  },
  {
   "cell_type": "code",
   "execution_count": null,
   "metadata": {
    "collapsed": false
   },
   "outputs": [],
   "source": [
    "#acoup.head()"
   ]
  },
  {
   "cell_type": "code",
   "execution_count": null,
   "metadata": {
    "collapsed": false,
    "scrolled": true
   },
   "outputs": [],
   "source": [
    "#nocoup.head()"
   ]
  },
  {
   "cell_type": "code",
   "execution_count": null,
   "metadata": {
    "collapsed": false
   },
   "outputs": [],
   "source": [
    "acoup.describe()"
   ]
  },
  {
   "cell_type": "code",
   "execution_count": null,
   "metadata": {
    "collapsed": false
   },
   "outputs": [],
   "source": [
    "nocoup.describe()"
   ]
  },
  {
   "cell_type": "code",
   "execution_count": null,
   "metadata": {
    "collapsed": false
   },
   "outputs": [],
   "source": [
    "# To test for statistical differences in the means of features for coup and no coup\n",
    "features = [\"gdppercap\", \"gdpgrowth\", \"urbanpop\", \"none\", \"revmagfight\", \n",
    "            \"gendeathmag\", \"ethmagfatal\", \"revmagfatal\", \"eth\", \n",
    "            \"ethmagfight\", \"rev\", \"gen\", \"polity2\", \"durable\", \n",
    "            \"yip\", \"ethnic\", \"linguistic\", \"religious\"]\n",
    "\n",
    "for i in features:\n",
    "    print ttest_ind(acoup[i], nocoup[i])"
   ]
  },
  {
   "cell_type": "markdown",
   "metadata": {},
   "source": [
    "## Data Exploration"
   ]
  },
  {
   "cell_type": "code",
   "execution_count": null,
   "metadata": {
    "collapsed": false,
    "scrolled": true
   },
   "outputs": [],
   "source": [
    "gBPolity = DF.groupby(\"polity2\").mean()\n",
    "gBPolity"
   ]
  },
  {
   "cell_type": "code",
   "execution_count": null,
   "metadata": {
    "collapsed": true
   },
   "outputs": [],
   "source": [
    "# gBPolity.to_csv(\"../assets/csv/gBPolity.csv\")"
   ]
  },
  {
   "cell_type": "code",
   "execution_count": null,
   "metadata": {
    "collapsed": false
   },
   "outputs": [],
   "source": [
    "DF.groupby(\"coup\").mean()"
   ]
  },
  {
   "cell_type": "code",
   "execution_count": null,
   "metadata": {
    "collapsed": false
   },
   "outputs": [],
   "source": [
    "# DF.to_csv(\"../assets/csv/finalData.csv\")"
   ]
  },
  {
   "cell_type": "code",
   "execution_count": null,
   "metadata": {
    "collapsed": false
   },
   "outputs": [],
   "source": [
    "DF[\"eth\"].dtypes"
   ]
  },
  {
   "cell_type": "code",
   "execution_count": null,
   "metadata": {
    "collapsed": false
   },
   "outputs": [],
   "source": [
    "worldMap = {\n",
    "            \"southAmerica\":     [\"Argentina\", \"Chile\", \"Colombia\", \"Peru\"],\n",
    "            \"centralAmerica\":   [\"El Salvador\", \"Guatemala\", \"Mexico\", \"Nicaragua\"],\n",
    "            \"caribbean\":        [\"Cuba\", \"Dominican Republic\", ],\n",
    "            \"northernEurope\":   [\"United Kingdom\"],\n",
    "            \"southernEurope\":   [\"Albania\", \"Croatia\"],\n",
    "            \"easternEurope\":    [\"Hungary\", \"Moldova\", \"Romania\", \"Russia\", \"Ukraine\"],\n",
    "            \"centralAsia\":      [\"Tajikistan\"],\n",
    "            \"southEasternAsia\": [\"Cambodia\", \"Indonesia\", \"Laos\", \"Philippines\", \"Thailand\"],\n",
    "            \"southernAsia\":     [\"Afghanistan\", \"Bangladesh\", \"India\", \"Iran\", \"Nepal\",\"Pakistan\", \n",
    "                                 \"Sri Lanka\"],\n",
    "            \"easternAsia\":      [\"China\"],\n",
    "            \"westernAsia\":      [\"Azerbaijan\", \"Cyprus\", \"Georgia\", \"Iraq\", \"Israel\", \"Lebanon\", \n",
    "                                 \"Oman\", \"Syria\", \"Turkey\"],\n",
    "            \"oceania\":          [\"Papua New Guinea\"],\n",
    "            \"northernAfrica\":   [\"Algeria\", \"Egypt\", \"Libya\", \"Morocco\", \"Sudan\"],\n",
    "            \"southernAfrica\":   [\"South Africa\"],\n",
    "            \"easternAfrica\":    [\"Burundi\", \"Djibouti\", \"Ethiopia\", \"Kenya\", \"Mozambique\", \"Rwanda\",\n",
    "                                 \"Uganda\", \"Zambia\", \"Zimbabwe\"],\n",
    "            \"westernAfrica\":    [\"Guinea\", \"Guinea-Bissau\", \"Liberia\", \"Mali\", \"Nigeria\", \"Senegal\", \n",
    "                                 \"Sierra Leone\"],\n",
    "            \"middleAfrica\":     [\"Angola\", \"Central African Republic\", \"Chad\", \"DR Congo\", \n",
    "                                 \"Equatorial Guinea\"]\n",
    "           }"
   ]
  },
  {
   "cell_type": "code",
   "execution_count": null,
   "metadata": {
    "collapsed": false
   },
   "outputs": [],
   "source": [
    "def binCountry(country, worldMap):\n",
    "    for region, countryList in worldMap.items():\n",
    "        if country in countryList:\n",
    "            return region\n",
    "        \n",
    "\n",
    "DF[\"CountryBin\"] = DF.country.apply( lambda country: binCountry(country, worldMap) )\n",
    "dummies = pd.get_dummies( DF[\"CountryBin\"] )\n",
    "DF2 = DF.join(dummies)\n",
    "DF2.drop([\"country\", \"CountryBin\"], axis=1, inplace=True)"
   ]
  },
  {
   "cell_type": "code",
   "execution_count": null,
   "metadata": {
    "collapsed": false
   },
   "outputs": [],
   "source": [
    "DF2.head()"
   ]
  },
  {
   "cell_type": "code",
   "execution_count": null,
   "metadata": {
    "collapsed": false
   },
   "outputs": [],
   "source": [
    "sns.heatmap(DF2.corr())"
   ]
  },
  {
   "cell_type": "code",
   "execution_count": null,
   "metadata": {
    "collapsed": true
   },
   "outputs": [],
   "source": [
    "y = DF2[\"coup\"]\n",
    "X = DF2.drop([\"coup\"], axis=1)"
   ]
  },
  {
   "cell_type": "code",
   "execution_count": null,
   "metadata": {
    "collapsed": true
   },
   "outputs": [],
   "source": [
    "from sklearn.cross_validation import KFold,cross_val_score,train_test_split,cross_val_predict\n",
    "from sklearn.metrics import r2_score,accuracy_score,precision_score,recall_score\n",
    "from sklearn.grid_search import GridSearchCV\n",
    "from sklearn.ensemble import RandomForestClassifier, AdaBoostClassifier\n",
    "from sklearn.metrics import classification_report, roc_curve, roc_auc_score, auc\n",
    "from sklearn.tree import DecisionTreeClassifier\n",
    "from IPython.display import Image\n",
    "from sklearn.tree import export_graphviz\n",
    "from sklearn.externals.six import StringIO\n",
    "import pydot"
   ]
  },
  {
   "cell_type": "code",
   "execution_count": null,
   "metadata": {
    "collapsed": false
   },
   "outputs": [],
   "source": [
    "X_train, X_test, y_train, y_test = train_test_split(X, y, test_size=0.3, random_state=0)"
   ]
  },
  {
   "cell_type": "markdown",
   "metadata": {},
   "source": [
    "## Random Forest Classifier"
   ]
  },
  {
   "cell_type": "code",
   "execution_count": null,
   "metadata": {
    "collapsed": false,
    "scrolled": true
   },
   "outputs": [],
   "source": [
    "# rf = RandomForestClassifier(n_jobs=-1,max_features= 'sqrt' ,n_estimators=100, oob_score = True) \n",
    "\n",
    "# rfparam_grid = { \n",
    "#                 'n_estimators': [25, 50,75,100,125,150,200],\n",
    "#                 'criterion': [\"gini\", \"entropy\"],\n",
    "#                 'max_features': [None, 'sqrt', 'log2'],\n",
    "#                 'min_samples_split':[1,2,3,4,5,6]\n",
    "#                }\n",
    "    \n",
    "# CV_rf = GridSearchCV(estimator=rf, param_grid=rfparam_grid, cv=5)\n",
    "# CV_rf.fit(X_train, y_train)\n",
    "# print CV_rf.best_params_"
   ]
  },
  {
   "cell_type": "code",
   "execution_count": null,
   "metadata": {
    "collapsed": false
   },
   "outputs": [],
   "source": [
    "cv = KFold(len(y_train), shuffle=False) \n",
    "print cv\n",
    "rf = RandomForestClassifier(bootstrap=True, class_weight=None, criterion='entropy',\n",
    "            max_depth=None, max_features=\"sqrt\", max_leaf_nodes=None,\n",
    "            min_samples_leaf=1, min_samples_split=5,\n",
    "            min_weight_fraction_leaf=0.0, n_estimators=150, n_jobs=1,\n",
    "            oob_score=True, random_state=20, verbose=0, warm_start=False)\n",
    "rfScore = cross_val_score(rf, X_train, y_train, cv=cv, n_jobs=-1)\n",
    "print \"Regular Decision Tree scores are:\", rfScore\n",
    "print \"Regular Decision Tree average score is:\", rfScore.mean()"
   ]
  },
  {
   "cell_type": "code",
   "execution_count": null,
   "metadata": {
    "collapsed": false
   },
   "outputs": [],
   "source": [
    "rfModel = rf.fit(X_train, y_train)"
   ]
  },
  {
   "cell_type": "code",
   "execution_count": null,
   "metadata": {
    "collapsed": false
   },
   "outputs": [],
   "source": [
    "rfPredicted = rfModel.predict(X_test)\n",
    "rfProbs = rfModel.predict_proba(X_test)"
   ]
  },
  {
   "cell_type": "code",
   "execution_count": null,
   "metadata": {
    "collapsed": true
   },
   "outputs": [],
   "source": [
    "rfPredictions = pd.DataFrame()\n",
    "rfPredictions[\"Actual\"] = y_test\n",
    "rfPredictions[\"Predicted\"] = rfPredicted\n",
    "rfPredictions[\"ProbsPos\"], rfPredictions[\"ProbsNeg\"] = zip(*rfProbs)"
   ]
  },
  {
   "cell_type": "code",
   "execution_count": null,
   "metadata": {
    "collapsed": false
   },
   "outputs": [],
   "source": [
    "newList = []\n",
    "newList2 = []\n",
    "for i in np.arange(0,1,0.01):\n",
    "    rfPredictions[\"ThreshPred\"] = ([0 if x < i else 1 for x in rfPredictions['ProbsNeg']])\n",
    "    newList.append(roc_auc_score(rfPredictions[\"Actual\"], rfPredictions[\"ThreshPred\"]))\n",
    "    newList2.append(i)\n",
    "d = zip(newList, newList2)\n",
    "max(d)"
   ]
  },
  {
   "cell_type": "code",
   "execution_count": null,
   "metadata": {
    "collapsed": false
   },
   "outputs": [],
   "source": [
    "rfThreshold = max(d)[1]\n",
    "rfPredictions[\"ThreshPred\"] = ([0 if x < rfThreshold else 1 for x in rfPredictions['ProbsNeg']])"
   ]
  },
  {
   "cell_type": "code",
   "execution_count": null,
   "metadata": {
    "collapsed": false
   },
   "outputs": [],
   "source": [
    "print 'accuracy score:', accuracy_score(rfPredictions[\"Actual\"], rfPredictions[\"ThreshPred\"])\n",
    "print 'ROC Score:', roc_auc_score(rfPredictions[\"Actual\"], rfPredictions[\"ThreshPred\"])"
   ]
  },
  {
   "cell_type": "code",
   "execution_count": null,
   "metadata": {
    "collapsed": false
   },
   "outputs": [],
   "source": [
    "print 'precision score:', precision_score(rfPredictions['Actual'],rfPredictions['ThreshPred'])\n",
    "print 'recall score:', recall_score(rfPredictions['Actual'],rfPredictions['ThreshPred'])\n",
    "print 'accuracy score:',accuracy_score(rfPredictions['Actual'],rfPredictions['ThreshPred'])"
   ]
  },
  {
   "cell_type": "code",
   "execution_count": null,
   "metadata": {
    "collapsed": false
   },
   "outputs": [],
   "source": [
    "print pd.crosstab(rfPredictions[\"Actual\"], rfPredictions[\"ThreshPred\"], rownames=[\"Actual\"])"
   ]
  },
  {
   "cell_type": "code",
   "execution_count": null,
   "metadata": {
    "collapsed": false
   },
   "outputs": [],
   "source": [
    "rfPredictions[\"ThreshPred\"].value_counts()"
   ]
  },
  {
   "cell_type": "code",
   "execution_count": null,
   "metadata": {
    "collapsed": false,
    "scrolled": true
   },
   "outputs": [],
   "source": [
    "rfPredictions[\"Actual\"].value_counts()"
   ]
  },
  {
   "cell_type": "code",
   "execution_count": null,
   "metadata": {
    "collapsed": false,
    "scrolled": true
   },
   "outputs": [],
   "source": [
    "rfPredictions.head()"
   ]
  },
  {
   "cell_type": "markdown",
   "metadata": {},
   "source": [
    "## AdaBoost Classifier"
   ]
  },
  {
   "cell_type": "code",
   "execution_count": null,
   "metadata": {
    "collapsed": false
   },
   "outputs": [],
   "source": [
    "# ab = AdaBoostClassifier() \n",
    "\n",
    "# abparam_grid = { \n",
    "#                 \"n_estimators\": [10,15,20,25,30],\n",
    "#                 \"learning_rate\": [1.0,2.0,3.0,4.0,5.0,6.0],\n",
    "#                 \"algorithm\": [\"SAMME\", \"SAMME.R\"]\n",
    "#                }\n",
    "\n",
    "# CV_ab= GridSearchCV(estimator=ab, param_grid=abparam_grid, cv=5)\n",
    "# CV_ab.fit(X_train, y_train)\n",
    "# print CV_ab.best_params_\n",
    "# print CV_ab.best_estimator_"
   ]
  },
  {
   "cell_type": "code",
   "execution_count": null,
   "metadata": {
    "collapsed": false
   },
   "outputs": [],
   "source": [
    "cv = KFold(len(y_train), shuffle=False) \n",
    "print cv\n",
    "ab = AdaBoostClassifier(algorithm='SAMME', base_estimator=None,\n",
    "          learning_rate=2.0, n_estimators=15, random_state=20)\n",
    "\n",
    "abScore = cross_val_score(ab, X_train, y_train, cv=cv,n_jobs=1)\n",
    "print \"Adaboost Decision Tree scores are:\", abScore\n",
    "print \"Adaboost Decision Tree average score is:\", abScore.mean()"
   ]
  },
  {
   "cell_type": "code",
   "execution_count": null,
   "metadata": {
    "collapsed": true
   },
   "outputs": [],
   "source": [
    "abModel = ab.fit(X_train, y_train)"
   ]
  },
  {
   "cell_type": "code",
   "execution_count": null,
   "metadata": {
    "collapsed": false
   },
   "outputs": [],
   "source": [
    "abPredicted = abModel.predict(X_test)\n",
    "abProbs = abModel.predict_proba(X_test)"
   ]
  },
  {
   "cell_type": "code",
   "execution_count": null,
   "metadata": {
    "collapsed": false
   },
   "outputs": [],
   "source": [
    "abPredictions = pd.DataFrame()\n",
    "abPredictions[\"Actual\"] = y_test\n",
    "abPredictions[\"Predicted\"] = abPredicted\n",
    "abPredictions[\"ProbsPos\"], abPredictions[\"ProbsNeg\"] = zip(*abProbs)"
   ]
  },
  {
   "cell_type": "code",
   "execution_count": null,
   "metadata": {
    "collapsed": false
   },
   "outputs": [],
   "source": [
    "newList3 = []\n",
    "newList4 = []\n",
    "for i in np.arange(0,1,0.01):\n",
    "    abPredictions[\"ThreshPred\"] = ([0 if x < i else 1 for x in abPredictions['ProbsNeg']])\n",
    "    newList3.append(roc_auc_score(abPredictions[\"Actual\"], abPredictions[\"ThreshPred\"]))\n",
    "    newList4.append(i)\n",
    "e = zip(newList3, newList4)\n",
    "max(e)"
   ]
  },
  {
   "cell_type": "code",
   "execution_count": null,
   "metadata": {
    "collapsed": false
   },
   "outputs": [],
   "source": [
    "abThreshold = max(e)[1]\n",
    "abPredictions[\"ThreshPred\"] = ([0 if x < abThreshold else 1 for x in abPredictions['ProbsNeg']])"
   ]
  },
  {
   "cell_type": "code",
   "execution_count": null,
   "metadata": {
    "collapsed": false
   },
   "outputs": [],
   "source": [
    "print accuracy_score(abPredictions[\"Actual\"], abPredictions[\"ThreshPred\"])\n",
    "print roc_auc_score(abPredictions[\"Actual\"], abPredictions[\"ThreshPred\"])"
   ]
  },
  {
   "cell_type": "code",
   "execution_count": null,
   "metadata": {
    "collapsed": false
   },
   "outputs": [],
   "source": [
    "print 'precision score:', precision_score(abPredictions['Actual'],abPredictions['ThreshPred'])\n",
    "print 'recall score:', recall_score(abPredictions['Actual'],abPredictions['ThreshPred'])\n",
    "print 'accuracy score:',accuracy_score(abPredictions['Actual'],abPredictions['ThreshPred'])"
   ]
  },
  {
   "cell_type": "code",
   "execution_count": null,
   "metadata": {
    "collapsed": false
   },
   "outputs": [],
   "source": [
    "abPredictions.head()"
   ]
  },
  {
   "cell_type": "code",
   "execution_count": null,
   "metadata": {
    "collapsed": false
   },
   "outputs": [],
   "source": [
    "print pd.crosstab(abPredictions[\"Actual\"], abPredictions[\"ThreshPred\"], rownames=[\"Actual\"])"
   ]
  },
  {
   "cell_type": "code",
   "execution_count": null,
   "metadata": {
    "collapsed": false
   },
   "outputs": [],
   "source": [
    "abPredictions[\"ThreshPred\"].value_counts()"
   ]
  },
  {
   "cell_type": "code",
   "execution_count": null,
   "metadata": {
    "collapsed": false
   },
   "outputs": [],
   "source": [
    "abPredictions[\"Actual\"].value_counts()"
   ]
  },
  {
   "cell_type": "code",
   "execution_count": null,
   "metadata": {
    "collapsed": false
   },
   "outputs": [],
   "source": [
    "rfPredictions.ThreshPred.head()"
   ]
  },
  {
   "cell_type": "code",
   "execution_count": null,
   "metadata": {
    "collapsed": false
   },
   "outputs": [],
   "source": [
    "# Compute ROC curve and ROC area for Random Forest\n",
    "rffpr = dict()\n",
    "rftpr = dict()\n",
    "rfroc_auc = dict()\n",
    "rffpr, rftpr, _ = roc_curve(y_test, rfPredictions.ProbsNeg)\n",
    "rfroc_auc = auc(rffpr, rftpr)\n",
    "\n",
    "# Compute ROC curve and ROC area for Adaboost\n",
    "abfpr = dict()\n",
    "abtpr = dict()\n",
    "abroc_auc = dict()\n",
    "abfpr, abtpr, _ = roc_curve(y_test, abPredictions.ProbsNeg)\n",
    "abroc_auc = auc(abfpr, abtpr)\n",
    "\n",
    "\n",
    "# Plot of a ROC curve \n",
    "plt.figure(figsize=(15,15))\n",
    "plt.plot(rffpr,rftpr,label='Rf AUC = %0.2f' % rfroc_auc)\n",
    "plt.plot(abfpr,abtpr,label='Ab AUC = %0.2f' % abroc_auc)\n",
    "plt.plot([0, 1], [0, 1], 'k--')\n",
    "plt.xlim([0.0, 1.0])\n",
    "plt.ylim([0.0, 1.05])\n",
    "plt.xlabel('False Positive Rate',fontsize=20)\n",
    "plt.ylabel('True Positive Rate', fontsize=20)\n",
    "plt.title('Receiver Operating Characteristic\\n', fontsize=30)\n",
    "plt.legend(loc=\"lower right\", fontsize=20)\n",
    "plt.yticks(fontsize=20)\n",
    "plt.xticks(fontsize=20)\n",
    "\n",
    "plt.show()"
   ]
  },
  {
   "cell_type": "markdown",
   "metadata": {},
   "source": [
    "## Random Forest with Feature Selection - Robustness"
   ]
  },
  {
   "cell_type": "code",
   "execution_count": null,
   "metadata": {
    "collapsed": false
   },
   "outputs": [],
   "source": [
    "#averaginng feature importances across trees in random forest model\n",
    "all(rf.feature_importances_ == np.mean([tree.feature_importances_ for tree in rf.estimators_], axis=0))\n",
    "\n",
    "importances = rf.feature_importances_\n",
    "std = np.std([tree.feature_importances_ for tree in rf.estimators_], axis=0)\n",
    "\n",
    "indices = np.argsort(importances)[::-1]\n",
    "feature_names = X_train.columns"
   ]
  },
  {
   "cell_type": "code",
   "execution_count": null,
   "metadata": {
    "collapsed": false
   },
   "outputs": [],
   "source": [
    "plt.figure(figsize=(20,10))\n",
    "plt.title(\"Feature Importances\\n\", fontsize = 30)\n",
    "plt.bar(range(X_train.shape[1]), importances[indices],\n",
    "       color=\"r\", yerr=std[indices], align=\"center\")\n",
    "plt.xticks(range(X_train.shape[1]), feature_names[indices], rotation=90, fontsize = 20)\n",
    "plt.xlim([-1, X_train.shape[1]])\n",
    "plt.yticks(fontsize=20)"
   ]
  },
  {
   "cell_type": "code",
   "execution_count": null,
   "metadata": {
    "collapsed": true
   },
   "outputs": [],
   "source": [
    "X_new = DF2[[\"gdppercap\", \"urbanpop\", \"gdpgrowth\", \"durable\", \"yip\",\n",
    "            \"polity2\", \"ethnic\", \"religious\", \"linguistic\"]]"
   ]
  },
  {
   "cell_type": "code",
   "execution_count": null,
   "metadata": {
    "collapsed": false
   },
   "outputs": [],
   "source": [
    "X_newtrain, X_newtest, y_newtrain, y_newtest = train_test_split(X_new, y, test_size=0.3, random_state=0)"
   ]
  },
  {
   "cell_type": "code",
   "execution_count": null,
   "metadata": {
    "collapsed": false
   },
   "outputs": [],
   "source": [
    "# rf2 = RandomForestClassifier(n_jobs=-1,max_features= 'sqrt' ,n_estimators=100, oob_score = True) \n",
    "\n",
    "# rf2param_grid = { \n",
    "#                 'n_estimators': [50,75,100,125,150],\n",
    "#                 'criterion': [\"gini\", \"entropy\"],\n",
    "#                 'max_features': [None, 'sqrt', 'log2'],\n",
    "#                 'min_samples_split':[1,2,3,4,5,6]\n",
    "#                 }\n",
    "    \n",
    "# CV_rf2 = GridSearchCV(estimator=rf2, param_grid=rf2param_grid, cv=5)\n",
    "# CV_rf2.fit(X_newtrain, y_newtrain)\n",
    "# print CV_rf2.best_params_"
   ]
  },
  {
   "cell_type": "code",
   "execution_count": null,
   "metadata": {
    "collapsed": false
   },
   "outputs": [],
   "source": [
    "cv2 = KFold(len(y_newtrain), shuffle=False) \n",
    "print cv2\n",
    "rf2 = RandomForestClassifier(bootstrap=True, class_weight=None, criterion='entropy',\n",
    "            max_depth=None, max_features=\"sqrt\", max_leaf_nodes=None,\n",
    "            min_samples_leaf=1, min_samples_split=6,\n",
    "            min_weight_fraction_leaf=0.0, n_estimators=150, n_jobs=1,\n",
    "            oob_score=True, random_state=20, verbose=0, warm_start=False)\n",
    "rfScore = cross_val_score(rf, X_train, y_train, cv=cv, n_jobs=-1)\n",
    "print \"Regular Decision Tree scores are:\", rfScore\n",
    "print \"Regular Decision Tree average score is:\", rfScore.mean()"
   ]
  },
  {
   "cell_type": "code",
   "execution_count": null,
   "metadata": {
    "collapsed": true
   },
   "outputs": [],
   "source": [
    "rf2Model = rf2.fit(X_newtrain, y_newtrain)"
   ]
  },
  {
   "cell_type": "code",
   "execution_count": null,
   "metadata": {
    "collapsed": true
   },
   "outputs": [],
   "source": [
    "rf2Predicted = rf2Model.predict(X_newtest)\n",
    "rf2Probs = rf2Model.predict_proba(X_newtest)"
   ]
  },
  {
   "cell_type": "code",
   "execution_count": null,
   "metadata": {
    "collapsed": true
   },
   "outputs": [],
   "source": [
    "rf2Predictions = pd.DataFrame()\n",
    "rf2Predictions[\"Actual\"] = y_newtest\n",
    "rf2Predictions[\"Predicted\"] = rf2Predicted\n",
    "rf2Predictions[\"ProbsPos\"], rf2Predictions[\"ProbsNeg\"] = zip(*rf2Probs)"
   ]
  },
  {
   "cell_type": "code",
   "execution_count": null,
   "metadata": {
    "collapsed": false
   },
   "outputs": [],
   "source": [
    "newList5 = []\n",
    "newList6 = []\n",
    "for i in np.arange(0,1,0.01):\n",
    "    rf2Predictions[\"ThreshPred\"] = ([0 if x < i else 1 for x in rf2Predictions['ProbsNeg']])\n",
    "    newList5.append(roc_auc_score(rf2Predictions[\"Actual\"], rf2Predictions[\"ThreshPred\"]))\n",
    "    newList6.append(i)\n",
    "f = zip(newList5, newList6)\n",
    "max(f)"
   ]
  },
  {
   "cell_type": "code",
   "execution_count": null,
   "metadata": {
    "collapsed": true
   },
   "outputs": [],
   "source": [
    "rf2Threshold = max(f)[1]\n",
    "rf2Predictions[\"ThreshPred\"] = [0 if x < rf2Threshold else 1 for x in rf2Predictions['ProbsNeg']]"
   ]
  },
  {
   "cell_type": "code",
   "execution_count": null,
   "metadata": {
    "collapsed": false
   },
   "outputs": [],
   "source": [
    "print pd.crosstab(rf2Predictions[\"Actual\"], rf2Predictions[\"ThreshPred\"], rownames=[\"Actual\"])"
   ]
  },
  {
   "cell_type": "code",
   "execution_count": null,
   "metadata": {
    "collapsed": false
   },
   "outputs": [],
   "source": [
    "print accuracy_score(rf2Predictions[\"Actual\"], rf2Predictions[\"ThreshPred\"])\n",
    "print roc_auc_score(rf2Predictions[\"Actual\"], rf2Predictions[\"ThreshPred\"])"
   ]
  },
  {
   "cell_type": "code",
   "execution_count": null,
   "metadata": {
    "collapsed": false
   },
   "outputs": [],
   "source": [
    "print 'precision score:', precision_score(rf2Predictions['Actual'],rf2Predictions['ThreshPred'])\n",
    "print 'recall score:', recall_score(rf2Predictions['Actual'],rf2Predictions['ThreshPred'])\n",
    "print 'accuracy score:',accuracy_score(rf2Predictions['Actual'],rf2Predictions['ThreshPred'])"
   ]
  },
  {
   "cell_type": "code",
   "execution_count": null,
   "metadata": {
    "collapsed": false
   },
   "outputs": [],
   "source": [
    "# Compute ROC curve and ROC area for Random Forest (with feature selection)\n",
    "rffpr2 = dict()\n",
    "rftpr2 = dict()\n",
    "rfroc_auc2 = dict()\n",
    "rffpr2, rftpr2, _ = roc_curve(y_newtest, rf2Predictions.ProbsNeg)\n",
    "rfroc_auc2 = auc(rffpr2, rftpr2)\n",
    "\n",
    "# Plot of a ROC curve \n",
    "plt.figure(figsize=(15,15))\n",
    "plt.plot(rffpr2,rftpr2,label='Rf AUC = %0.2f' % rfroc_auc2)\n",
    "plt.plot([0, 1], [0, 1], 'k--')\n",
    "plt.xlim([0.0, 1.0])\n",
    "plt.ylim([0.0, 1.05])\n",
    "plt.xlabel('False Positive Rate',fontsize=20)\n",
    "plt.ylabel('True Positive Rate', fontsize=20)\n",
    "plt.title('Receiver Operating Characteristic\\n', fontsize=30)\n",
    "plt.legend(loc=\"lower right\", fontsize=20)\n",
    "plt.yticks(fontsize=20)\n",
    "plt.xticks(fontsize=20)\n",
    "\n",
    "plt.show()"
   ]
  },
  {
   "cell_type": "markdown",
   "metadata": {},
   "source": [
    "## Logistic Regression"
   ]
  },
  {
   "cell_type": "code",
   "execution_count": null,
   "metadata": {
    "collapsed": true
   },
   "outputs": [],
   "source": [
    "from sklearn.linear_model import LogisticRegression\n",
    "from patsy import dmatrices\n",
    "import statsmodels.api as sm\n",
    "from sklearn.feature_selection import SelectFromModel\n",
    "from sklearn.preprocessing import StandardScaler"
   ]
  },
  {
   "cell_type": "code",
   "execution_count": null,
   "metadata": {
    "collapsed": false
   },
   "outputs": [],
   "source": [
    "DF2.head()"
   ]
  },
  {
   "cell_type": "code",
   "execution_count": null,
   "metadata": {
    "collapsed": false,
    "scrolled": true
   },
   "outputs": [],
   "source": [
    "#DF.to_csv(\"../assets/csv/final.csv\")"
   ]
  },
  {
   "cell_type": "code",
   "execution_count": null,
   "metadata": {
    "collapsed": false
   },
   "outputs": [],
   "source": [
    "DF2.shape"
   ]
  },
  {
   "cell_type": "code",
   "execution_count": null,
   "metadata": {
    "collapsed": false
   },
   "outputs": [],
   "source": [
    "y1, X1 = dmatrices(\"coup ~ gdppercap + gdpgrowth + urbanpop + none + \\\n",
    "                    revmagfight + gendeathmag + ethmagfatal + revmagfatal + \\\n",
    "                    eth + ethmagfight + rev + gen + polity2 + durable + yip + \\\n",
    "                    ethnic + linguistic + religious + caribbean + centralAmerica + \\\n",
    "                    centralAsia + easternAfrica + easternAsia + easternEurope + \\\n",
    "                    middleAfrica + northernAfrica + northernEurope + oceania + southAmerica + \\\n",
    "                    southEasternAsia + southernAfrica + southernAsia + southernEurope + \\\n",
    "                    westernAfrica\", DF2, return_type=\"dataframe\")"
   ]
  },
  {
   "cell_type": "code",
   "execution_count": null,
   "metadata": {
    "collapsed": false
   },
   "outputs": [],
   "source": [
    "y1 = np.ravel(y1)"
   ]
  },
  {
   "cell_type": "code",
   "execution_count": null,
   "metadata": {
    "collapsed": false
   },
   "outputs": [],
   "source": [
    "lr = LogisticRegression()\n",
    "lrModel = lr.fit(X1,y1)"
   ]
  },
  {
   "cell_type": "code",
   "execution_count": null,
   "metadata": {
    "collapsed": false
   },
   "outputs": [],
   "source": [
    "coeffName =  X1.columns.tolist()\n",
    "coeff =  lrModel.coef_[0]\n",
    "coeffs = pd.DataFrame(zip(coeffName, coeff), columns=[\"CoeffName\", \"Coeff\"])\n",
    "coeffs.head()"
   ]
  },
  {
   "cell_type": "code",
   "execution_count": null,
   "metadata": {
    "collapsed": false
   },
   "outputs": [],
   "source": [
    "X_norm =  StandardScaler().fit_transform(X1)\n",
    "\n",
    "lrModel2 = lr.fit(X_norm, y1)\n",
    "coeff2 = lrModel2.coef_[0]\n",
    "coeffs2 = pd.DataFrame(zip(coeffName, coeff2), columns=[\"CoeffName\", \"Coeff\"])\n",
    "coeffs3 = coeffs2\n",
    "coeffs3[\"Coeff\"] = abs(coeffs3[\"Coeff\"])\n",
    "coeffs3.sort(\"Coeff\", ascending = False, inplace=True)"
   ]
  },
  {
   "cell_type": "code",
   "execution_count": null,
   "metadata": {
    "collapsed": false
   },
   "outputs": [],
   "source": [
    "coeffs3.head(14)"
   ]
  },
  {
   "cell_type": "code",
   "execution_count": null,
   "metadata": {
    "collapsed": false
   },
   "outputs": [],
   "source": [
    "y2, X2 = dmatrices(\"coup ~ gdpgrowth + urbanpop + none + \\\n",
    "                     durable + polity2 + gdppercap + ethnic + \\\n",
    "                     linguistic +  + caribbean + easternAfrica + \\\n",
    "                     easternAsia + easternEurope + southernAfrica + \\\n",
    "                     southernAsia\", DF2, return_type=\"dataframe\")"
   ]
  },
  {
   "cell_type": "code",
   "execution_count": null,
   "metadata": {
    "collapsed": false
   },
   "outputs": [],
   "source": [
    "y2 = np.ravel(y2)"
   ]
  },
  {
   "cell_type": "code",
   "execution_count": null,
   "metadata": {
    "collapsed": false
   },
   "outputs": [],
   "source": [
    "lrModel2 = lr.fit(X2, y2)\n",
    "# logit = sm.Logit(X2, y2)\n",
    "# result = logit.fit()\n",
    "# result.summary()\n",
    "lrModel2.coef_"
   ]
  },
  {
   "cell_type": "code",
   "execution_count": null,
   "metadata": {
    "collapsed": false
   },
   "outputs": [],
   "source": [
    "coeffName2 =  X2.columns.tolist()\n",
    "coeff2 =  np.exp(lrModel2.coef_[0])\n",
    "coeffs2 = pd.DataFrame(zip(coeffName2, coeff2), columns=[\"CoeffName\", \"Coeff\"])\n",
    "coeffs2"
   ]
  },
  {
   "cell_type": "markdown",
   "metadata": {},
   "source": [
    "C5 Score: | 26/27\n",
    "------------|-----------\n",
    "Identify: Review executive summary, audience, goals, criteria\t|\t3\t\t\n",
    "Acquire: Review data selection & acquisition process\t\t\t|\t2\n",
    "Parse: Review data descriptions, outliers, risks, assumptions\t|\t3\t\t\n",
    "Mine: Review statistical analysis\t\t\t\t|2\n",
    "Refine: Review visual analysis\t\t\t\t|3\n",
    "Model: Review model and performance\t\t\t|3\t\n",
    "Present: Tell/sell the story to a non-tech audience |  3\n",
    "Present: Discuss findings and limitations\t|\t\t\t3\n",
    "Present: Create targeted recommendations and next steps\t\t|\t2\t\n",
    "Bonus: Deploy: Address how to (re)train model over time  | 1\n",
    "Bonus: Create an interactive demo of your data|  1"
   ]
  },
  {
   "cell_type": "code",
   "execution_count": null,
   "metadata": {
    "collapsed": true
   },
   "outputs": [],
   "source": [
    "#JB great job, this is so interesting!"
   ]
  }
 ],
 "metadata": {
  "anaconda-cloud": {},
  "kernelspec": {
   "display_name": "Python [Root]",
   "language": "python",
   "name": "Python [Root]"
  },
  "language_info": {
   "codemirror_mode": {
    "name": "ipython",
    "version": 2
   },
   "file_extension": ".py",
   "mimetype": "text/x-python",
   "name": "python",
   "nbconvert_exporter": "python",
   "pygments_lexer": "ipython2",
   "version": "2.7.12"
  }
 },
 "nbformat": 4,
 "nbformat_minor": 0
}
